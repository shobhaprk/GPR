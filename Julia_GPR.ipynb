{
 "cells": [
  {
   "cell_type": "code",
   "execution_count": null,
   "metadata": {},
   "outputs": [],
   "source": [
    "function word_locate(sentence, location) \n",
    "    count_words = 0\n",
    "    count_chars = 2 #2 is to count for the two spaces in the beginning\n",
    "    for word in split(sentence)\n",
    "        count_words += 1\n",
    "        if (location == count_chars || location < count_chars)\n",
    "            return word, count_words\n",
    "        end\n",
    "        count_chars += length(word)\n",
    "        count_chars += 1 #for space\n",
    "    end\n",
    "end"
   ]
  },
  {
   "cell_type": "code",
   "execution_count": null,
   "metadata": {},
   "outputs": [],
   "source": [
    "function curr_prev_sentence(sentence1::String, loc)\n",
    "#     println(typeof(sentence1))\n",
    "    current_sentence = \"\"\n",
    "    prev_sentence = \"\"\n",
    "    detect = 0\n",
    "    count = 0\n",
    "    for char in sentence1\n",
    "         count += 1\n",
    "         current_sentence = current_sentence*char\n",
    "         if char == '.' && detect == 0\n",
    "             prev_sentence = current_sentence \n",
    "            current_sentence = \"\"\n",
    "        end\n",
    "        if char == '.' && detect == 1\n",
    "            return current_sentence, prev_sentence\n",
    "        end\n",
    "        if count == loc\n",
    "            detect = 1              \n",
    "        end\n",
    "\n",
    "\n",
    "     end\n",
    "end"
   ]
  },
  {
   "cell_type": "code",
   "execution_count": null,
   "metadata": {},
   "outputs": [],
   "source": [
    "function find_subject(sentence)\n",
    "    doc = nlp(sentence)\n",
    "    for token in doc\n",
    "        if token.dep_ == \"nsubj\"\n",
    "            return token.text\n",
    "        end\n",
    "    end\n",
    "    return \"none\"\n",
    "end"
   ]
  },
  {
   "cell_type": "code",
   "execution_count": null,
   "metadata": {},
   "outputs": [],
   "source": [
    "text1 = \"After a few years of almost no work -- although he was a guest star on Lou Grant and Charlie's Angels in the late 1970s, he once summed up the 1970s as 'I cried and did a lot of gardening' -- he was hired in 1979 for his best-known role, self-made millionaire Palmer Cortlandt on ABC's long-running soap opera All My Children. Initially hired for only one year, he remained on contract through 2009. For much of his first decade on the show, Palmer was a ruthless villain, totally possessive of his daughter, Nina and violently threatening his ex-wife Daisy with being attacked by dobermans when she came back from the dead.\""
   ]
  },
  {
   "cell_type": "code",
   "execution_count": null,
   "metadata": {},
   "outputs": [],
   "source": [
    "text2 = \"When onlookers expressed doubt, claiming that the Proctor family was well regarded in the community, the girl promptly came out of her trance and told them it was all for 'sport'. On March 29, 1692, Abigail Williams and Mercy Lewis again said they were being tormented by Elizabeth's spectre. A few days later, Abigail complained that Elizabeth was pinching her and tearing at her bowels, and said she saw Elizabeth's spectre as well as John's.\""
   ]
  },
  {
   "cell_type": "code",
   "execution_count": null,
   "metadata": {},
   "outputs": [],
   "source": [
    "current, prev = curr_prev_sentence(text2,360)\n",
    "print(current)\n",
    "\n",
    "\n"
   ]
  },
  {
   "cell_type": "code",
   "execution_count": null,
   "metadata": {},
   "outputs": [],
   "source": [
    "word, loc = word_locate(text2, 360) \n",
    "print(word, \" \", loc)"
   ]
  },
  {
   "cell_type": "code",
   "execution_count": null,
   "metadata": {},
   "outputs": [],
   "source": [
    "using CSV,DataFrames\n",
    "data = DataFrame(CSV.read(\"data/gap-development.tsv\",delim='\\t', allowmissing=:none, normalizenames=true));\n",
    "first(data,6)"
   ]
  },
  {
   "cell_type": "code",
   "execution_count": null,
   "metadata": {},
   "outputs": [],
   "source": [
    "word_locate(data[:Text][1], data[:Pronoun_offset][1])"
   ]
  },
  {
   "cell_type": "code",
   "execution_count": 1,
   "metadata": {},
   "outputs": [
    {
     "name": "stderr",
     "output_type": "stream",
     "text": [
      "┌ Info: Recompiling stale cache file C:\\Users\\Shobha\\.julia\\compiled\\v1.0\\PyCall\\GkzkC.ji for PyCall [438e738f-606a-5dbb-bf0a-cddfbfd45ab0]\n",
      "└ @ Base loading.jl:1190\n"
     ]
    }
   ],
   "source": [
    "using PyCall"
   ]
  },
  {
   "cell_type": "code",
   "execution_count": 2,
   "metadata": {},
   "outputs": [
    {
     "data": {
      "text/plain": [
       "PyObject <module 'spacy' from 'C:\\\\Users\\\\Shobha\\\\Anaconda64\\\\envs\\\\tensorflow\\\\lib\\\\site-packages\\\\spacy\\\\__init__.py'>"
      ]
     },
     "execution_count": 2,
     "metadata": {},
     "output_type": "execute_result"
    }
   ],
   "source": [
    "spacy = pyimport(\"spacy\")\n"
   ]
  },
  {
   "cell_type": "code",
   "execution_count": 7,
   "metadata": {},
   "outputs": [
    {
     "name": "stdout",
     "output_type": "stream",
     "text": [
      "A DET DT det\n",
      "few ADJ JJ amod\n",
      "days NOUN NNS npadvmod\n",
      "later ADV RB advmod\n",
      ", PUNCT , punct\n",
      "Abigail PROPN NNP nsubj\n",
      "complained VERB VBD ROOT\n",
      "that ADP IN mark\n",
      "Elizabeth PROPN NNP nsubj\n",
      "was VERB VBD aux\n",
      "pinching VERB VBG ccomp\n",
      "her PRON PRP dobj\n",
      "and CCONJ CC cc\n",
      "tearing VERB VBG conj\n",
      "at ADP IN prep\n",
      "her ADJ PRP$ poss\n",
      "bowels NOUN NNS pobj\n"
     ]
    }
   ],
   "source": [
    "nlp = spacy.load(\"en_core_web_sm\")\n",
    "doc = nlp(\"A few days later, Abigail complained that Elizabeth was pinching her and tearing at her bowels\")\n",
    "\n",
    "for token in doc\n",
    "    println(token.text,\" \", token.pos_,\" \", token.tag_,\" \", token.dep_)\n",
    "end"
   ]
  }
 ],
 "metadata": {
  "kernelspec": {
   "display_name": "Julia 1.0.3",
   "language": "julia",
   "name": "julia-1.0"
  },
  "language_info": {
   "file_extension": ".jl",
   "mimetype": "application/julia",
   "name": "julia",
   "version": "1.0.3"
  }
 },
 "nbformat": 4,
 "nbformat_minor": 2
}
