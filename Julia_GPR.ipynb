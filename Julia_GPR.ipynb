{
 "cells": [
  {
   "cell_type": "markdown",
   "metadata": {},
   "source": [
    "Function returns the word at a given location in a sentence "
   ]
  },
  {
   "cell_type": "code",
   "execution_count": 1,
   "metadata": {},
   "outputs": [
    {
     "data": {
      "text/plain": [
       "word_locate (generic function with 1 method)"
      ]
     },
     "execution_count": 1,
     "metadata": {},
     "output_type": "execute_result"
    }
   ],
   "source": [
    "function word_locate(sentence, location) \n",
    "    count_words = 0\n",
    "    count_chars = 2 #2 is to count for the two spaces in the beginning\n",
    "    for word in split(sentence)\n",
    "        count_words += 1\n",
    "        if (location == count_chars || location < count_chars)\n",
    "            return word, count_words\n",
    "        end\n",
    "        count_chars += length(word)\n",
    "        count_chars += 1 #for space\n",
    "    end\n",
    "end"
   ]
  },
  {
   "cell_type": "markdown",
   "metadata": {},
   "source": [
    "Splits sentence into current and previous sentence"
   ]
  },
  {
   "cell_type": "code",
   "execution_count": 2,
   "metadata": {},
   "outputs": [
    {
     "data": {
      "text/plain": [
       "curr_prev_sentence (generic function with 1 method)"
      ]
     },
     "execution_count": 2,
     "metadata": {},
     "output_type": "execute_result"
    }
   ],
   "source": [
    "function curr_prev_sentence(sentence1::String, loc)\n",
    "#     println(typeof(sentence1))\n",
    "    current_sentence = \"\"\n",
    "    prev_sentence = \"\"\n",
    "    detect = 0\n",
    "    count = 0\n",
    "    for char in sentence1\n",
    "         count += 1\n",
    "         current_sentence = current_sentence*char\n",
    "         if char == '.' && detect == 0\n",
    "             prev_sentence = current_sentence \n",
    "            current_sentence = \"\"\n",
    "        end\n",
    "        if char == '.' && detect == 1\n",
    "            return current_sentence, prev_sentence\n",
    "        end\n",
    "        if count == loc\n",
    "            detect = 1              \n",
    "        end\n",
    "\n",
    "\n",
    "     end\n",
    "end"
   ]
  },
  {
   "cell_type": "code",
   "execution_count": null,
   "metadata": {},
   "outputs": [],
   "source": []
  },
  {
   "cell_type": "code",
   "execution_count": 3,
   "metadata": {},
   "outputs": [
    {
     "data": {
      "text/plain": [
       "\"After a few years of almost no work -- although he was a guest star on Lou Grant and Charlie's Angels in the late 1970s, he once summed up the 1970s as 'I cried and did a lot of gardening' -- he was hired in 1979 for his best-known role, self-made millionaire Palmer Cortlandt on ABC's long-running soap opera All My Children. Initially hired for only one year, he remained on contract through 2009. For much of his first decade on the show, Palmer was a ruthless villain, totally possessive of his daughter, Nina and violently threatening his ex-wife Daisy with being attacked by dobermans when she came back from the dead.\""
      ]
     },
     "execution_count": 3,
     "metadata": {},
     "output_type": "execute_result"
    }
   ],
   "source": [
    "text1 = \"After a few years of almost no work -- although he was a guest star on Lou Grant and Charlie's Angels in the late 1970s, he once summed up the 1970s as 'I cried and did a lot of gardening' -- he was hired in 1979 for his best-known role, self-made millionaire Palmer Cortlandt on ABC's long-running soap opera All My Children. Initially hired for only one year, he remained on contract through 2009. For much of his first decade on the show, Palmer was a ruthless villain, totally possessive of his daughter, Nina and violently threatening his ex-wife Daisy with being attacked by dobermans when she came back from the dead.\""
   ]
  },
  {
   "cell_type": "code",
   "execution_count": 4,
   "metadata": {},
   "outputs": [
    {
     "data": {
      "text/plain": [
       "\"When onlookers expressed doubt, claiming that the Proctor family was well regarded in the community, the girl promptly came out of her trance and told them it was all for 'sport'. On March 29, 1692, Abigail Williams and Mercy Lewis again said they were being tormented by Elizabeth's spectre. A few days later, Abigail complained that Elizabeth was pinching her and tearing at her bowels, and said she saw Elizabeth's spectre as well as John's.\""
      ]
     },
     "execution_count": 4,
     "metadata": {},
     "output_type": "execute_result"
    }
   ],
   "source": [
    "text2 = \"When onlookers expressed doubt, claiming that the Proctor family was well regarded in the community, the girl promptly came out of her trance and told them it was all for 'sport'. On March 29, 1692, Abigail Williams and Mercy Lewis again said they were being tormented by Elizabeth's spectre. A few days later, Abigail complained that Elizabeth was pinching her and tearing at her bowels, and said she saw Elizabeth's spectre as well as John's.\""
   ]
  },
  {
   "cell_type": "code",
   "execution_count": 5,
   "metadata": {},
   "outputs": [
    {
     "name": "stdout",
     "output_type": "stream",
     "text": [
      " A few days later, Abigail complained that Elizabeth was pinching her and tearing at her bowels, and said she saw Elizabeth's spectre as well as John's."
     ]
    }
   ],
   "source": [
    "current, prev = curr_prev_sentence(text2,360)\n",
    "print(current)\n",
    "\n",
    "\n"
   ]
  },
  {
   "cell_type": "code",
   "execution_count": 6,
   "metadata": {},
   "outputs": [
    {
     "name": "stdout",
     "output_type": "stream",
     "text": [
      "her 60"
     ]
    }
   ],
   "source": [
    "word, loc = word_locate(text2, 360) \n",
    "print(word, \" \", loc)"
   ]
  },
  {
   "cell_type": "code",
   "execution_count": 7,
   "metadata": {},
   "outputs": [
    {
     "data": {
      "text/html": [
       "<table class=\"data-frame\"><thead><tr><th></th><th>ID</th><th>Text</th><th>Pronoun</th><th>Pronoun_offset</th><th>A</th><th>A_offset</th><th>A_coref</th><th>B</th><th>B_offset</th><th>B_coref</th><th>URL</th></tr><tr><th></th><th>String</th><th>String</th><th>String</th><th>Int64</th><th>String</th><th>Int64</th><th>String</th><th>String</th><th>Int64</th><th>String</th><th>String</th></tr></thead><tbody><p>6 rows × 11 columns</p><tr><th>1</th><td>development-1</td><td>Zoe Telford -- played the police officer girlfriend of Simon, Maggie. Dumped by Simon in the final episode of series 1, after he slept with Jenny, and is not seen again. Phoebe Thomas played Cheryl Cassidy, Pauline's friend and also a year 11 pupil in Simon's class. Dumped her boyfriend following Simon's advice after he wouldn't have sex with her but later realised this was due to him catching crabs off her friend Pauline.</td><td>her</td><td>274</td><td>Cheryl Cassidy</td><td>191</td><td>TRUE</td><td>Pauline</td><td>207</td><td>FALSE</td><td>http://en.wikipedia.org/wiki/List_of_Teachers_(UK_TV_series)_characters</td></tr><tr><th>2</th><td>development-2</td><td>He grew up in Evanston, Illinois the second oldest of five children including his brothers, Fred and Gordon and sisters, Marge (Peppy) and Marilyn. His high school days were spent at New Trier High School in Winnetka, Illinois. MacKenzie studied with Bernard Leach from 1949 to 1952. His simple, wheel-thrown functional pottery is heavily influenced by the oriental aesthetic of Shoji Hamada and Kanjiro Kawai.</td><td>His</td><td>284</td><td>MacKenzie</td><td>228</td><td>TRUE</td><td>Bernard Leach</td><td>251</td><td>FALSE</td><td>http://en.wikipedia.org/wiki/Warren_MacKenzie</td></tr><tr><th>3</th><td>development-3</td><td>He had been reelected to Congress, but resigned in 1990 to accept a post as Ambassador to Brazil. De la Sota again ran for governor of C*rdoba in 1991. Defeated by Governor Angeloz by over 15%, this latter setback was significant because it cost De la Sota much of his support within the Justicialist Party (which was flush with victory in the 1991 mid-terms), leading to President Carlos Menem 's endorsement of a separate party list in C*rdoba for the 1993 mid-term elections, and to De la Sota's failure to regain a seat in Congress.</td><td>his</td><td>265</td><td>Angeloz</td><td>173</td><td>FALSE</td><td>De la Sota</td><td>246</td><td>TRUE</td><td>http://en.wikipedia.org/wiki/Jos%C3%A9_Manuel_de_la_Sota</td></tr><tr><th>4</th><td>development-4</td><td>The current members of Crime have also performed in San Francisco under the band name ''Remote Viewers``. Strike has published two works of fiction in recent years: Ports of Hell, which is listed in the Rock and Roll Hall of Fame Library, and A Loud Humming Sound Came from Above. Rank has produced numerous films (under his real name, Henry Rosenthal) including the hit The Devil and Daniel Johnston.</td><td>his</td><td>321</td><td>Hell</td><td>174</td><td>FALSE</td><td>Henry Rosenthal</td><td>336</td><td>TRUE</td><td>http://en.wikipedia.org/wiki/Crime_(band)</td></tr><tr><th>5</th><td>development-5</td><td>Her Santa Fe Opera debut in 2005 was as Nuria in the revised edition of Golijov's Ainadamar. She sang on the subsequent Deutsche Grammophon recording of the opera. For his opera Doctor Atomic, Adams rewrote the role of Kitty Oppenheimer, originally a mezzo-soprano role, for soprano voice, and Rivera sang the rewritten part of Kitty Oppenheimer at Lyric Opera of Chicago, De Nederlandse Opera, and the Metropolitan Opera., all in 2007. She has since sung several parts and roles in John Adams' works, including the soprano part in El Ni*o, and the role of Kumudha in A Flowering Tree in the Peter Sellars production at the New Crowned Hope Festival in Vienna.</td><td>She</td><td>437</td><td>Kitty Oppenheimer</td><td>219</td><td>FALSE</td><td>Rivera</td><td>294</td><td>TRUE</td><td>http://en.wikipedia.org/wiki/Jessica_Rivera</td></tr><tr><th>6</th><td>development-6</td><td>Sandra Collins is an American DJ. She got her start on the West Coast of the U.S. in Phoenix, Arizona and into residencies in Los Angeles, and eventually moved towards trance. She used American producers to give herself a unique sound. Collins performed for an estimated 80,000 people on the first night of Woodstock '99, and was the first female DJ featured in the Tranceport series of influential recordings. She recently has released two CD mixes under Paul Oakenfold's Perfecto label.</td><td>She</td><td>411</td><td>Collins</td><td>236</td><td>TRUE</td><td>DJ</td><td>347</td><td>FALSE</td><td>http://en.wikipedia.org/wiki/Sandra_Collins</td></tr></tbody></table>"
      ],
      "text/latex": [
       "\\begin{tabular}{r|ccccccccccc}\n",
       "\t& ID & Text & Pronoun & Pronoun\\_offset & A & A\\_offset & A\\_coref & B & B\\_offset & B\\_coref & URL\\\\\n",
       "\t\\hline\n",
       "\t& String & String & String & Int64 & String & Int64 & String & String & Int64 & String & String\\\\\n",
       "\t\\hline\n",
       "\t1 & development-1 & Zoe Telford -- played the police officer girlfriend of Simon, Maggie. Dumped by Simon in the final episode of series 1, after he slept with Jenny, and is not seen again. Phoebe Thomas played Cheryl Cassidy, Pauline's friend and also a year 11 pupil in Simon's class. Dumped her boyfriend following Simon's advice after he wouldn't have sex with her but later realised this was due to him catching crabs off her friend Pauline. & her & 274 & Cheryl Cassidy & 191 & TRUE & Pauline & 207 & FALSE & http://en.wikipedia.org/wiki/List\\_of\\_Teachers\\_(UK\\_TV\\_series)\\_characters \\\\\n",
       "\t2 & development-2 & He grew up in Evanston, Illinois the second oldest of five children including his brothers, Fred and Gordon and sisters, Marge (Peppy) and Marilyn. His high school days were spent at New Trier High School in Winnetka, Illinois. MacKenzie studied with Bernard Leach from 1949 to 1952. His simple, wheel-thrown functional pottery is heavily influenced by the oriental aesthetic of Shoji Hamada and Kanjiro Kawai. & His & 284 & MacKenzie & 228 & TRUE & Bernard Leach & 251 & FALSE & http://en.wikipedia.org/wiki/Warren\\_MacKenzie \\\\\n",
       "\t3 & development-3 & He had been reelected to Congress, but resigned in 1990 to accept a post as Ambassador to Brazil. De la Sota again ran for governor of C*rdoba in 1991. Defeated by Governor Angeloz by over 15\\%, this latter setback was significant because it cost De la Sota much of his support within the Justicialist Party (which was flush with victory in the 1991 mid-terms), leading to President Carlos Menem 's endorsement of a separate party list in C*rdoba for the 1993 mid-term elections, and to De la Sota's failure to regain a seat in Congress. & his & 265 & Angeloz & 173 & FALSE & De la Sota & 246 & TRUE & http://en.wikipedia.org/wiki/Jos\\%C3\\%A9\\_Manuel\\_de\\_la\\_Sota \\\\\n",
       "\t4 & development-4 & The current members of Crime have also performed in San Francisco under the band name ''Remote Viewers``. Strike has published two works of fiction in recent years: Ports of Hell, which is listed in the Rock and Roll Hall of Fame Library, and A Loud Humming Sound Came from Above. Rank has produced numerous films (under his real name, Henry Rosenthal) including the hit The Devil and Daniel Johnston. & his & 321 & Hell & 174 & FALSE & Henry Rosenthal & 336 & TRUE & http://en.wikipedia.org/wiki/Crime\\_(band) \\\\\n",
       "\t5 & development-5 & Her Santa Fe Opera debut in 2005 was as Nuria in the revised edition of Golijov's Ainadamar. She sang on the subsequent Deutsche Grammophon recording of the opera. For his opera Doctor Atomic, Adams rewrote the role of Kitty Oppenheimer, originally a mezzo-soprano role, for soprano voice, and Rivera sang the rewritten part of Kitty Oppenheimer at Lyric Opera of Chicago, De Nederlandse Opera, and the Metropolitan Opera., all in 2007. She has since sung several parts and roles in John Adams' works, including the soprano part in El Ni*o, and the role of Kumudha in A Flowering Tree in the Peter Sellars production at the New Crowned Hope Festival in Vienna. & She & 437 & Kitty Oppenheimer & 219 & FALSE & Rivera & 294 & TRUE & http://en.wikipedia.org/wiki/Jessica\\_Rivera \\\\\n",
       "\t6 & development-6 & Sandra Collins is an American DJ. She got her start on the West Coast of the U.S. in Phoenix, Arizona and into residencies in Los Angeles, and eventually moved towards trance. She used American producers to give herself a unique sound. Collins performed for an estimated 80,000 people on the first night of Woodstock '99, and was the first female DJ featured in the Tranceport series of influential recordings. She recently has released two CD mixes under Paul Oakenfold's Perfecto label. & She & 411 & Collins & 236 & TRUE & DJ & 347 & FALSE & http://en.wikipedia.org/wiki/Sandra\\_Collins \\\\\n",
       "\\end{tabular}\n"
      ],
      "text/plain": [
       "6×11 DataFrame. Omitted printing of 10 columns\n",
       "│ Row │ ID            │\n",
       "│     │ \u001b[90mString\u001b[39m        │\n",
       "├─────┼───────────────┤\n",
       "│ 1   │ development-1 │\n",
       "│ 2   │ development-2 │\n",
       "│ 3   │ development-3 │\n",
       "│ 4   │ development-4 │\n",
       "│ 5   │ development-5 │\n",
       "│ 6   │ development-6 │"
      ]
     },
     "execution_count": 7,
     "metadata": {},
     "output_type": "execute_result"
    }
   ],
   "source": [
    "using CSV,DataFrames\n",
    "data = DataFrame(CSV.read(\"data/gap-development.tsv\",delim='\\t', allowmissing=:none, normalizenames=true));\n",
    "first(data,6)"
   ]
  },
  {
   "cell_type": "code",
   "execution_count": 8,
   "metadata": {},
   "outputs": [
    {
     "name": "stdout",
     "output_type": "stream",
     "text": [
      "Pauline's 37"
     ]
    }
   ],
   "source": [
    "word, loc = word_locate(data[:Text][1], 207) \n",
    "print(word, \" \", loc)"
   ]
  },
  {
   "cell_type": "code",
   "execution_count": 9,
   "metadata": {},
   "outputs": [
    {
     "data": {
      "text/plain": [
       "2000"
      ]
     },
     "execution_count": 9,
     "metadata": {},
     "output_type": "execute_result"
    }
   ],
   "source": [
    "size(data)[1]"
   ]
  },
  {
   "cell_type": "code",
   "execution_count": 10,
   "metadata": {},
   "outputs": [
    {
     "data": {
      "text/plain": [
       "2000-element Array{String,1}:\n",
       " \"zoe telford -- played the police officer girlfriend of simon, maggie. dumped by simon in the final episode of series 1, after he slept with jenny, and is not seen again. phoebe thomas played cheryl cassidy, pauline's friend and also a year 11 pupil in simon's class. dumped her boyfriend following simon's advice after he wouldn't have sex with her but later realised this was due to him catching crabs off her friend pauline.\"                                                                                                                                                                                                                                          \n",
       " \"he grew up in evanston, illinois the second oldest of five children including his brothers, fred and gordon and sisters, marge (peppy) and marilyn. his high school days were spent at new trier high school in winnetka, illinois. mackenzie studied with bernard leach from 1949 to 1952. his simple, wheel-thrown functional pottery is heavily influenced by the oriental aesthetic of shoji hamada and kanjiro kawai.\"                                                                                                                                                                                                                                                          \n",
       " \"he had been reelected to congress, but resigned in 1990 to accept a post as ambassador to brazil. de la sota again ran for governor of c*rdoba in 1991. defeated by governor angeloz by over 15%, this latter setback was significant because it cost de la sota much of his support within the justicialist party (which was flush with victory in the 1991 mid-terms), leading to president carlos menem 's endorsement of a separate party list in c*rdoba for the 1993 mid-term elections, and to de la sota's failure to regain a seat in congress.\"                                                                                                                            \n",
       " \"the current members of crime have also performed in san francisco under the band name ''remote viewers``. strike has published two works of fiction in recent years: ports of hell, which is listed in the rock and roll hall of fame library, and a loud humming sound came from above. rank has produced numerous films (under his real name, henry rosenthal) including the hit the devil and daniel johnston.\"                                                                                                                                                                                                                                                                   \n",
       " \"her santa fe opera debut in 2005 was as nuria in the revised edition of golijov's ainadamar. she sang on the subsequent deutsche grammophon recording of the opera. for his opera doctor atomic, adams rewrote the role of kitty oppenheimer, originally a mezzo-soprano role, for soprano voice, and rivera sang the rewritten part of kitty oppenheimer at lyric opera of chicago, de nederlandse opera, and the metropolitan opera., all in 2007. she has since sung several parts and roles in john adams' works, including the soprano part in el ni*o, and the role of kumudha in a flowering tree in the peter sellars production at the new crowned hope festival in vienna.\"\n",
       " \"sandra collins is an american dj. she got her start on the west coast of the u.s. in phoenix, arizona and into residencies in los angeles, and eventually moved towards trance. she used american producers to give herself a unique sound. collins performed for an estimated 80,000 people on the first night of woodstock '99, and was the first female dj featured in the tranceport series of influential recordings. she recently has released two cd mixes under paul oakenfold's perfecto label.\"                                                                                                                                                                            \n",
       " \"reb chaim yaakov's wife is the sister of rabbi moishe sternbuch, as is the wife of rabbi meshulam dovid soloveitchik, making the two rabbis his uncles. reb asher's brother rabbi shlomo arieli is the author of a critical edition of the novallae of rabbi akiva eiger. before his marriage, rabbi arieli studied in the ponevezh yeshiva headed by rabbi shmuel rozovsky, and he later studied under his father-in-law in the mirrer yeshiva.\"                                                                                                                                                                                                                                    \n",
       " \"slant magazine's sal cinquemani viewed the album as formulaic and ``competently, often frustratingly more of the same from an artist who still seems capable of much more.'' greg kot of the chicago tribune perceived ``formula production and hack songwriting'', but complimented pink's personality and its ``handful'' of worthy tracks. in his list for the barnes & noble review, robert christgau named the truth about love the fourth best album of 2012.\"                                                                                                                                                                                                                 \n",
       " \"her father was an englishman ``of rank and culture'' and her mother was a free woman of color, described as light-skinned. when mary was six, her mother sent her to alexandria (then part of the district of columbia) to attend school. living with her aunt mary paine, kelsey studied for about ten years.\"                                                                                                                                                                                                                                                                                                                                                                      \n",
       " \"shaftesbury's uk partners in the production of the series, british broadcaster uktv and the international distributor itv studios global entertainment, were both interested in additional seasons. christina jennings approached kirstine stewart, executive vice-president of cbc's english services, about continuing the series, and she felt that ``a home at cbc made absolute sense''.\"                                                                                                                                                                                                                                                                                       \n",
       " \"william shatner portraying writer mark twain; a special christmas episode which included appearances by ed asner, brendan coyle, kelly rowan and television news anchor peter mansbridge; an episode which featured david onley, the lieutenant governor of ontario at the time of production, appearing as his own forerunner oliver mowat; and two different episodes in which former dragons' den investors arlene dickinson and david chilton guest starred.\"                                                                                                                                                                                                                    \n",
       " \"his maternal great-grandfather was henry percy, 4th earl of northumberland, whose wife was maud herbert, countess of northumberland. his maternal grandmother was a daughter of sir robert spencer and eleanor beaufort. eleanor was a daughter of edmund beaufort, 2nd duke of somerset and eleanor beauchamp. she was a granddaughter of richard de beauchamp, 13th earl of warwick and elizabeth berkeley.\"                                                                                                                                                                                                                                                                       \n",
       " \"killian in 1978--79, an assistant district attorney for brunswick judicial circuit in 1979--80, and a practicing attorney in glynn county in 1980--90. williams was elected a superior court judge in 1990, taking the bench in 1991. in november 2010 williams competed against mary helen moses in her most recent bid for re-election.\"                                                                                                                                                                                                                                                                                                                                           \n",
       " ⋮                                                                                                                                                                                                                                                                                                                                                                                                                                                                                                                                                                                                                                                                                     \n",
       " \"burnett stone (peter fonda) is lily's grandfather and lady's caretaker. he keeps her in muffle mountain.\"                                                                                                                                                                                                                                                                                                                                                                                                                                                                                                                                                                            \n",
       " \"it premiered on 2 october 2003 at the mahalia jackson theater in new orleans conducted by robert lyall with yali-marie williams in the title role. in 2001 new orleans opera commissioned thea musgrave to compose a new opera for the 2003 celebrations of the louisiana purchase bicentennial. on the suggestion of the company's general director robert lyall, musgrave chose micaela almonester, baroness de pontalba as her subject.\"                                                                                                                                                                                                                                          \n",
       " \"her name, which means ``my friend'' in (french: mon ami), is given by ry*ko after junichiro misunderstands marianne and lucienne's pronunciation. she is known to the jpp as r-9. at the end of the anime series, she is found to be under ry*ko's custody and even has marianne and lucienne keep an eye on her while going to a school in france.\"                                                                                                                                                                                                                                                                                                                                 \n",
       " \"desperate to avoid disappointing little ricky, lucy decides to dress up as superman herself. she and ethel hatch a plan whereby lucy will use the vacant apartment next door to walk onto the ledge and enter through the window of the ricardo apartment during the party, hoping to fool their children into believing that she's the man of steel.\"                                                                                                                                                                                                                                                                                                                               \n",
       " \"patric followed her back to weatherfield and they got engaged, though patric promised alan that he would wait until he had finished his studies before they married. however, after he discovered that jenny had been kissing another man at a party, patric calls off the engagement and returned to france. on the eve of her 18th birthday in 1989, jenny stops alan suffocating rita but continues to stand by her father regardless, although she was torn between her loyalty to him and her love for rita.\"                                                                                                                                                                   \n",
       " \"she then determined on becoming an artist, and she studied painting in france at the robert-fleury studio and at the acad*mie julian. the acad*mie, as one of the few establishments that accepted female students, attracted young women from all over europe and the united states. fellow students at the acad*mie included anna bili*ska-bohdanowiczowa and especially louise breslau, whom bashkirtseff viewed as her only real rival.\"                                                                                                                                                                                                                                         \n",
       " \"bill grainer bill grainer is a grammy certified american songwriter and producer. he has written for such artists as jai mcdowall, linda eder, and jennifer hudson, with whom he co-wrote the song ``stand up'' for her grammy award-winning self-titled debut album.\"                                                                                                                                                                                                                                                                                                                                                                                                               \n",
       " \"faye's third husband, paul resnick, reported that a concerned nicole called him in early june 1994 to report that ``faye was getting out of control'' and abusing cocaine again. resnick stayed for several days at brown's condominium until on june 9, 1994, nicole and several other friends conducted an intervention and persuaded faye to check into the exodus recovery center in marina del rey, california. three days later, brown and her friend, waiter ronald goldman, were murdered.\"                                                                                                                                                                                  \n",
       " \"the plot of the film focuses on the life of a chinese american family who struggles with identity. the mother, doris chu, has undergone blepharoplasty, or ``double eyelid'' surgery, and the oldest of two daughters, mei, has trouble understanding her mother's actions.\"                                                                                                                                                                                                                                                                                                                                                                                                         \n",
       " \"grant played the part in trevor nunn's movie adaptation of twelfth night, dancing dreadfully in front of mel smith's sir toby, getting his sword caught in a branch of a tree and being kicked in the groin during his duel with ``cesario'' (imogen stubbs). when maria (imelda staunton) tricks malvolio (nigel hawthorne) into wearing yellow stockings, she reveals to her fellow conspirators that ``'tis a colour (my lady olivia) abhors''.\"                                                                                                                                                                                                                                  \n",
       " \"the fashion house specialised in hand-printed and hand-embroidered evening wear and scarves. as a part of the global extension of london fashion helen took part in ``london goes to tokyo'' event organised by suzanne bartsch, a show intended to broaden the reach of british designers. she has also designed hosiery for sophie mirman's ``sock shop'', under the english eccentrics name.\"                                                                                                                                                                                                                                                                                     \n",
       " \"watkins was a close friend of hess' first wife, katherine hawley. she was one of the first to send sympathy when hawley was thrown from a horse and killed. watkins and hess had a son, adam hess, who was an attorney and secretary for the aetna until his death in 1969; he left three daughters, elizabeth, faye, and emily, the only grandchildren of watkins. watkins obtained her release from fox prior to her marriage.\"                                                                                                                                                                                                                                                    "
      ]
     },
     "execution_count": 10,
     "metadata": {},
     "output_type": "execute_result"
    }
   ],
   "source": [
    "data[:Text]= map(lowercase, data[:Text])"
   ]
  },
  {
   "cell_type": "code",
   "execution_count": 11,
   "metadata": {},
   "outputs": [
    {
     "data": {
      "text/plain": [
       "(\"her\", 49)"
      ]
     },
     "execution_count": 11,
     "metadata": {},
     "output_type": "execute_result"
    }
   ],
   "source": [
    "word_locate(data[:Text][1], data[:Pronoun_offset][1])"
   ]
  },
  {
   "cell_type": "code",
   "execution_count": 13,
   "metadata": {},
   "outputs": [],
   "source": [
    "using PyCall"
   ]
  },
  {
   "cell_type": "code",
   "execution_count": 14,
   "metadata": {},
   "outputs": [
    {
     "data": {
      "text/plain": [
       "PyObject <module 'spacy' from 'C:\\\\Users\\\\Shobha\\\\Anaconda64\\\\envs\\\\tensorflow\\\\lib\\\\site-packages\\\\spacy\\\\__init__.py'>"
      ]
     },
     "execution_count": 14,
     "metadata": {},
     "output_type": "execute_result"
    }
   ],
   "source": [
    "spacy = pyimport(\"spacy\")\n"
   ]
  },
  {
   "cell_type": "code",
   "execution_count": 17,
   "metadata": {},
   "outputs": [
    {
     "name": "stdout",
     "output_type": "stream",
     "text": [
      "zoe NUM CD compound\n",
      "telford NOUN NN nsubj\n",
      "-- PUNCT : punct\n",
      "played VERB VBD ROOT\n",
      "the DET DT det\n",
      "police NOUN NN compound\n",
      "officer NOUN NN nsubj\n",
      "girlfriend NOUN NN dobj\n",
      "of ADP IN prep\n",
      "simon NOUN NN pobj\n",
      ", PUNCT , punct\n",
      "maggie NOUN NN appos\n",
      ". PUNCT . punct\n",
      "dumped VERB VBN ROOT\n",
      "by ADP IN agent\n",
      "simon NOUN NN pobj\n",
      "in ADP IN prep\n",
      "the DET DT det\n",
      "final ADJ JJ amod\n",
      "episode NOUN NN pobj\n",
      "of ADP IN prep\n",
      "series NOUN NN pobj\n",
      "1 NUM CD nummod\n",
      ", PUNCT , punct\n",
      "after ADP IN mark\n",
      "he PRON PRP nsubj\n",
      "slept VERB VBD advcl\n",
      "with ADP IN prep\n",
      "jenny ADJ JJ pobj\n",
      ", PUNCT , punct\n",
      "and CCONJ CC cc\n",
      "is VERB VBZ auxpass\n",
      "not ADV RB neg\n",
      "seen VERB VBN conj\n",
      "again ADV RB advmod\n",
      ". PUNCT . punct\n",
      "phoebe ADJ JJ compound\n",
      "thomas NOUN NNS nsubj\n",
      "played VERB VBD ROOT\n",
      "cheryl NOUN NN compound\n",
      "cassidy NOUN NN dobj\n",
      ", PUNCT , punct\n",
      "pauline NOUN NN poss\n",
      "'s PART POS case\n",
      "friend NOUN NN appos\n",
      "and CCONJ CC cc\n",
      "also ADV RB advmod\n",
      "a DET DT det\n",
      "year NOUN NN nmod\n",
      "11 NUM CD nummod\n",
      "pupil NOUN NN conj\n",
      "in ADP IN prep\n",
      "simon NOUN NN poss\n",
      "'s PART POS case\n",
      "class NOUN NN pobj\n",
      ". PUNCT . punct\n",
      "dumped VERB VBD ROOT\n",
      "her ADJ PRP$ poss\n",
      "boyfriend NOUN NN dobj\n",
      "following VERB VBG prep\n",
      "simon NOUN NN poss\n",
      "'s PART POS case\n",
      "advice NOUN NN pobj\n",
      "after ADP IN mark\n",
      "he PRON PRP nsubj\n",
      "would VERB MD aux\n",
      "n't ADV RB neg\n",
      "have VERB VB advcl\n",
      "sex NOUN NN dobj\n",
      "with ADP IN prep\n",
      "her PRON PRP pobj\n",
      "but CCONJ CC cc\n",
      "later ADV RB advmod\n",
      "realised VERB VBD conj\n",
      "this DET DT nsubj\n",
      "was VERB VBD ccomp\n",
      "due ADJ JJ acomp\n",
      "to ADP IN prep\n",
      "him PRON PRP pobj\n",
      "catching VERB VBG pcomp\n",
      "crabs NOUN NNS dobj\n",
      "off ADP IN prep\n",
      "her ADJ PRP$ poss\n",
      "friend NOUN NN pobj\n",
      "pauline NOUN NN acomp\n",
      ". PUNCT . punct\n"
     ]
    },
    {
     "data": {
      "text/plain": [
       "(86,)"
      ]
     },
     "execution_count": 17,
     "metadata": {},
     "output_type": "execute_result"
    }
   ],
   "source": [
    "nlp = spacy.load(\"en_core_web_sm\")\n",
    "doc = nlp(data[:Text][1])\n",
    "\n",
    "for token in doc\n",
    "    println(token.text,\" \", token.pos_,\" \", token.tag_,\" \", token.dep_)\n",
    "end\n",
    "size(doc)"
   ]
  },
  {
   "cell_type": "code",
   "execution_count": 18,
   "metadata": {},
   "outputs": [
    {
     "data": {
      "text/plain": [
       "find_subject (generic function with 1 method)"
      ]
     },
     "execution_count": 18,
     "metadata": {},
     "output_type": "execute_result"
    }
   ],
   "source": [
    "function find_subject(sentence)\n",
    "    doc = nlp(sentence)\n",
    "    for token in doc\n",
    "        if token.dep_ == \"nsubj\"\n",
    "            return token.text\n",
    "        end\n",
    "    end\n",
    "    return \"none\"\n",
    "end"
   ]
  },
  {
   "cell_type": "code",
   "execution_count": 19,
   "metadata": {},
   "outputs": [
    {
     "data": {
      "text/plain": [
       "\"Abigail\""
      ]
     },
     "execution_count": 19,
     "metadata": {},
     "output_type": "execute_result"
    }
   ],
   "source": [
    "find_subject(current)"
   ]
  },
  {
   "cell_type": "code",
   "execution_count": 18,
   "metadata": {},
   "outputs": [
    {
     "data": {
      "text/plain": [
       "Embeddings.EmbeddingTable{Array{Float32,2},Array{String,1}}(Float32[0.04656 -0.25539 … 0.81451 0.429191; 0.21318 -0.25723 … -0.36221 -0.296897; … ; -0.20989 -0.12226 … 0.28408 0.32618; 0.053913 0.35499 … -0.17559 -0.0590532], [\"the\", \",\", \".\", \"of\", \"to\", \"and\", \"in\", \"a\", \"\\\"\", \"'s\"  …  \"sigarms\", \"katuna\", \"aqm\", \"1.3775\", \"corythosaurus\", \"chanty\", \"kronik\", \"rolonda\", \"zsombor\", \"sandberger\"])"
      ]
     },
     "execution_count": 18,
     "metadata": {},
     "output_type": "execute_result"
    }
   ],
   "source": [
    "#using Pkg\n",
    "#Pkg.add(\"Embeddings\")\n",
    "using Embeddings\n",
    "const embtable = load_embeddings(GloVe,4) # or load_embeddings(FastText_Text) or ...\n"
   ]
  },
  {
   "cell_type": "code",
   "execution_count": 17,
   "metadata": {},
   "outputs": [
    {
     "data": {
      "text/plain": [
       "get_embedding (generic function with 1 method)"
      ]
     },
     "execution_count": 17,
     "metadata": {},
     "output_type": "execute_result"
    }
   ],
   "source": [
    "const get_word_index = Dict(word=>ii for (ii,word) in enumerate(embtable.vocab))\n",
    "\n",
    "function get_embedding(word)\n",
    "    ind = get_word_index[word]\n",
    "    emb = embtable.embeddings[:,ind]\n",
    "    return emb\n",
    "end"
   ]
  },
  {
   "cell_type": "code",
   "execution_count": 18,
   "metadata": {},
   "outputs": [
    {
     "name": "stdout",
     "output_type": "stream",
     "text": [
      "\u001b[32m\u001b[1m  Updating\u001b[22m\u001b[39m registry at `C:\\Users\\Shobha\\.julia\\registries\\General`\n",
      "\u001b[32m\u001b[1m  Updating\u001b[22m\u001b[39m git-repo `https://github.com/JuliaRegistries/General.git`\n",
      "\u001b[2K\u001b[?25h[1mFetching:\u001b[22m\u001b[39m [========================================>]  100.0 %.0 % [=>                                       ]  2.1 %==>                                      ]  4.9 %7.7 %                                    ]  9.7 %]  11.4 %\u001b[36m\u001b[1mFetching:\u001b[22m\u001b[39m [=====>                                   ]  11.8 %======>                                  ]  13.6 %4 % [=======>                                 ]  17.2 %\u001b[36m\u001b[1mFetching:\u001b[22m\u001b[39m [========>                                ]  19.4 %23.2 %5 %=============>                           ]  30.5 %.1 %\u001b[36m\u001b[1mFetching:\u001b[22m\u001b[39m [=============>                           ]  31.5 %]  31.9 %\u001b[36m\u001b[1mFetching:\u001b[22m\u001b[39m [=============>                           ]  32.5 %\u001b[36m\u001b[1mFetching:\u001b[22m\u001b[39m [==============>                          ]  32.7 %\u001b[36m\u001b[1mFetching:\u001b[22m\u001b[39m [==============>                          ]  33.9 % [===============>                         ]  35.5 %================>                        ]  38.6 % %.5 % [===================>                     ]  45.9 %\u001b[36m\u001b[1mFetching:\u001b[22m\u001b[39m [====================>                    ]  48.4 % [====================>                    ]  48.6 %0 % %.9 %4 %]  59.8 %               ]  61.5 %\u001b[36m\u001b[1mFetching:\u001b[22m\u001b[39m [==========================>              ]  62.6 %\u001b[36m\u001b[1mFetching:\u001b[22m\u001b[39m [==========================>              ]  63.4 %65.0 %66.9 % [============================>            ]  68.0 %\u001b[36m\u001b[1mFetching:\u001b[22m\u001b[39m [============================>            ]  68.8 %73.5 %         ]  77.0 %=================================>       ]  80.5 %>       ]  80.9 %0 %]  84.5 %===================================>     ]  86.4 %]  89.2 %>   ]  91.6 %> ]  95.6 %]  98.2 %========================================>]  98.5 %\u001b[32m\u001b[1m Resolving\u001b[22m\u001b[39m package versions...\n",
      "\u001b[32m\u001b[1m Installed\u001b[22m\u001b[39m ShiftedArrays ────── v0.5.0\n",
      "\u001b[32m\u001b[1m Installed\u001b[22m\u001b[39m StructArrays ─────── v0.3.4\n",
      "\u001b[32m\u001b[1m Installed\u001b[22m\u001b[39m AbstractFFTs ─────── v0.4.0\n",
      "\u001b[32m\u001b[1m Installed\u001b[22m\u001b[39m OrderedCollections ─ v1.1.0\n",
      "\u001b[32m\u001b[1m Installed\u001b[22m\u001b[39m TranscodingStreams ─ v0.9.4\n",
      "\u001b[32m\u001b[1m Installed\u001b[22m\u001b[39m DoubleFloats ─────── v0.7.21\n",
      "\u001b[32m\u001b[1m Installed\u001b[22m\u001b[39m Distributions ────── v0.18.0\n",
      "\u001b[32m\u001b[1m Installed\u001b[22m\u001b[39m WebIO ────────────── v0.8.1\n",
      "\u001b[32m\u001b[1m Installed\u001b[22m\u001b[39m OnlineStatsBase ──── v0.10.2\n",
      "\u001b[32m\u001b[1m Installed\u001b[22m\u001b[39m PlotUtils ────────── v0.5.8\n",
      "\u001b[32m\u001b[1m Installed\u001b[22m\u001b[39m GR ───────────────── v0.39.1\n",
      "\u001b[32m\u001b[1m  Updating\u001b[22m\u001b[39m `C:\\Users\\Shobha\\.julia\\environments\\v1.0\\Project.toml`\n",
      "\u001b[90m [no changes]\u001b[39m\n",
      "\u001b[32m\u001b[1m  Updating\u001b[22m\u001b[39m `C:\\Users\\Shobha\\.julia\\environments\\v1.0\\Manifest.toml`\n",
      " \u001b[90m [621f4979]\u001b[39m\u001b[93m ↑ AbstractFFTs v0.3.2 ⇒ v0.4.0\u001b[39m\n",
      " \u001b[90m [31c24e10]\u001b[39m\u001b[93m ↑ Distributions v0.17.0 ⇒ v0.18.0\u001b[39m\n",
      " \u001b[90m [497a8b3b]\u001b[39m\u001b[93m ↑ DoubleFloats v0.7.18 ⇒ v0.7.21\u001b[39m\n",
      " \u001b[90m [28b8d3ca]\u001b[39m\u001b[93m ↑ GR v0.39.0 ⇒ v0.39.1\u001b[39m\n",
      " \u001b[90m [925886fa]\u001b[39m\u001b[93m ↑ OnlineStatsBase v0.10.1 ⇒ v0.10.2\u001b[39m\n",
      " \u001b[90m [bac558e1]\u001b[39m\u001b[93m ↑ OrderedCollections v1.0.2 ⇒ v1.1.0\u001b[39m\n",
      " \u001b[90m [995b91a9]\u001b[39m\u001b[93m ↑ PlotUtils v0.5.7 ⇒ v0.5.8\u001b[39m\n",
      " \u001b[90m [1277b4bf]\u001b[39m\u001b[93m ↑ ShiftedArrays v0.4.0 ⇒ v0.5.0\u001b[39m\n",
      " \u001b[90m [09ab397b]\u001b[39m\u001b[93m ↑ StructArrays v0.3.3 ⇒ v0.3.4\u001b[39m\n",
      " \u001b[90m [3bb67fe8]\u001b[39m\u001b[93m ↑ TranscodingStreams v0.9.3 ⇒ v0.9.4\u001b[39m\n",
      " \u001b[90m [0f1e0344]\u001b[39m\u001b[93m ↑ WebIO v0.7.0 ⇒ v0.8.1\u001b[39m\n",
      "\u001b[32m\u001b[1m  Building\u001b[22m\u001b[39m WebIO → `C:\\Users\\Shobha\\.julia\\packages\\WebIO\\7G1ZY\\deps\\build.log`\n",
      "\u001b[32m\u001b[1m  Building\u001b[22m\u001b[39m GR ───→ `C:\\Users\\Shobha\\.julia\\packages\\GR\\KGODl\\deps\\build.log`\n"
     ]
    }
   ],
   "source": [
    "#using Pkg\n",
    "#Pkg.add(\"WordTokenizers\")\n",
    "using WordTokenizers"
   ]
  },
  {
   "cell_type": "code",
   "execution_count": 12,
   "metadata": {},
   "outputs": [
    {
     "ename": "UndefVarError",
     "evalue": "UndefVarError: split_sentences not defined",
     "output_type": "error",
     "traceback": [
      "UndefVarError: split_sentences not defined",
      "",
      "Stacktrace:",
      " [1] top-level scope at In[12]:1"
     ]
    }
   ],
   "source": [
    "sentences = split_sentences(data[:Text][1])\n",
    "token = tokenize.(sentences)\n",
    "size(token[1])"
   ]
  },
  {
   "cell_type": "code",
   "execution_count": 230,
   "metadata": {},
   "outputs": [
    {
     "data": {
      "text/plain": [
       "PyObject zoe telford -- played the police officer girlfriend of simon, maggie. dumped by simon in the final episode of series 1, after he slept with jenny, and is not seen again. phoebe thomas played cheryl cassidy, pauline's friend and also a year 11 pupil in simon's class. dumped her boyfriend following simon's advice after he wouldn't have sex with her but later realised this was due to him catching crabs off her friend pauline."
      ]
     },
     "execution_count": 230,
     "metadata": {},
     "output_type": "execute_result"
    }
   ],
   "source": [
    "nlp = spacy.load(\"en_core_web_sm\") \n",
    "doc = nlp(data[:Text][1])"
   ]
  },
  {
   "cell_type": "code",
   "execution_count": 240,
   "metadata": {},
   "outputs": [
    {
     "data": {
      "text/plain": [
       "construct_embedding (generic function with 1 method)"
      ]
     },
     "execution_count": 240,
     "metadata": {},
     "output_type": "execute_result"
    }
   ],
   "source": [
    "function construct_embedding(tokens)  ##not used currently\n",
    "    \n",
    "    i = 0\n",
    "    embd = DataFrame(zeros(300,1)) \n",
    "    for token in tokens\n",
    "    \n",
    "    \n",
    "        try\n",
    "            em = get_embedding(token.text)\n",
    "            if(size(em)[1] == 300)\n",
    "               # println(token)\n",
    "                i = i +1\n",
    "                embd[i] = em[:]                \n",
    "            end\n",
    "            \n",
    "        catch y\n",
    "            if typeof(y) == \"KeyError\"\n",
    "                print(\"missing\")\n",
    "            end   \n",
    "        end\n",
    "        \n",
    "        \n",
    "    end\n",
    "    return embd,missing\n",
    "end"
   ]
  },
  {
   "cell_type": "code",
   "execution_count": 233,
   "metadata": {},
   "outputs": [
    {
     "name": "stdout",
     "output_type": "stream",
     "text": [
      "PyObject zoe\n",
      "PyObject telford\n",
      "PyObject --\n",
      "PyObject played\n",
      "PyObject the\n",
      "PyObject police\n",
      "PyObject officer\n",
      "PyObject girlfriend\n",
      "PyObject of\n",
      "PyObject simon\n",
      "PyObject ,\n",
      "PyObject maggie\n",
      "PyObject .\n",
      "PyObject dumped\n",
      "PyObject by\n",
      "PyObject simon\n",
      "PyObject in\n",
      "PyObject the\n",
      "PyObject final\n",
      "PyObject episode\n",
      "PyObject of\n",
      "PyObject series\n",
      "PyObject 1\n",
      "PyObject ,\n",
      "PyObject after\n",
      "PyObject he\n",
      "PyObject slept\n",
      "PyObject with\n",
      "PyObject jenny\n",
      "PyObject ,\n",
      "PyObject and\n",
      "PyObject is\n",
      "PyObject not\n",
      "PyObject seen\n",
      "PyObject again\n",
      "PyObject .\n",
      "PyObject phoebe\n",
      "PyObject thomas\n",
      "PyObject played\n",
      "PyObject cheryl\n",
      "PyObject cassidy\n",
      "PyObject ,\n",
      "PyObject pauline\n",
      "PyObject 's\n",
      "PyObject friend\n",
      "PyObject and\n",
      "PyObject also\n",
      "PyObject a\n",
      "PyObject year\n",
      "PyObject 11\n",
      "PyObject pupil\n",
      "PyObject in\n",
      "PyObject simon\n",
      "PyObject 's\n",
      "PyObject class\n",
      "PyObject .\n",
      "PyObject dumped\n",
      "PyObject her\n",
      "PyObject boyfriend\n",
      "PyObject following\n",
      "PyObject simon\n",
      "PyObject 's\n",
      "PyObject advice\n",
      "PyObject after\n",
      "PyObject he\n",
      "PyObject would\n",
      "PyObject n't\n",
      "PyObject have\n",
      "PyObject sex\n",
      "PyObject with\n",
      "PyObject her\n",
      "PyObject but\n",
      "PyObject later\n",
      "PyObject realised\n",
      "PyObject this\n",
      "PyObject was\n",
      "PyObject due\n",
      "PyObject to\n",
      "PyObject him\n",
      "PyObject catching\n",
      "PyObject crabs\n",
      "PyObject off\n",
      "PyObject her\n",
      "PyObject friend\n",
      "PyObject pauline\n",
      "PyObject .\n"
     ]
    }
   ],
   "source": []
  },
  {
   "cell_type": "code",
   "execution_count": 241,
   "metadata": {},
   "outputs": [
    {
     "data": {
      "text/plain": [
       "(300×86 DataFrame. Omitted printing of 81 columns\n",
       "│ Row │ x1        │ x2        │ x3        │ x4         │ x5         │\n",
       "│     │ \u001b[90mFloat32\u001b[39m   │ \u001b[90mFloat32\u001b[39m   │ \u001b[90mFloat32\u001b[39m   │ \u001b[90mFloat32\u001b[39m    │ \u001b[90mFloat32\u001b[39m    │\n",
       "├─────┼───────────┼───────────┼───────────┼────────────┼────────────┤\n",
       "│ 1   │ 0.35212   │ -0.27052  │ 0.17252   │ -0.58401   │ 0.04656    │\n",
       "│ 2   │ -0.18099  │ -0.19328  │ -0.26227  │ 0.65791    │ 0.21318    │\n",
       "│ 3   │ -0.66098  │ -0.02881  │ 0.50156   │ -0.081314  │ -0.0074364 │\n",
       "│ 4   │ -0.46503  │ 0.42328   │ -0.12217  │ -0.0034225 │ -0.45854   │\n",
       "│ 5   │ -0.090936 │ -0.069812 │ 0.37079   │ -0.11457   │ -0.035639  │\n",
       "│ 6   │ 0.3997    │ 0.70235   │ 0.51156   │ 0.051633   │ 0.23643    │\n",
       "│ 7   │ 0.078355  │ 0.55253   │ -0.040364 │ -0.13247   │ -0.28836   │\n",
       "│ 8   │ -0.23059  │ 0.31584   │ -0.20552  │ 0.2429     │ 0.21521    │\n",
       "│ 9   │ 0.25552   │ 0.26781   │ -0.39164  │ -0.18768   │ -0.13486   │\n",
       "│ 10  │ -0.19488  │ 0.70058   │ -1.9433   │ -0.38648   │ -1.6413    │\n",
       "⋮\n",
       "│ 290 │ 0.2874    │ -0.033426 │ 0.11718   │ -0.21009   │ 0.14082    │\n",
       "│ 291 │ 0.40179   │ -0.18974  │ 0.23906   │ 0.064913   │ -0.013064  │\n",
       "│ 292 │ -0.11891  │ 0.49739   │ -0.67778  │ 0.48508    │ -0.29686   │\n",
       "│ 293 │ 0.44647   │ 0.14794   │ 0.36552   │ -0.13726   │ -0.079913  │\n",
       "│ 294 │ -0.50582  │ 0.23542   │ -0.6447   │ 0.5319     │ 0.195      │\n",
       "│ 295 │ 0.061458  │ 0.32109   │ 0.22371   │ 0.21926    │ 0.031549   │\n",
       "│ 296 │ -0.36646  │ 0.30819   │ -0.33644  │ 0.10661    │ 0.28506    │\n",
       "│ 297 │ -0.15346  │ 0.52376   │ -0.10602  │ 0.63091    │ -0.087461  │\n",
       "│ 298 │ 0.45027   │ 0.44888   │ -0.47855  │ -0.41762   │ 0.0090611  │\n",
       "│ 299 │ -0.30465  │ 0.2016    │ -0.3611   │ -0.28028   │ -0.20989   │\n",
       "│ 300 │ 0.35556   │ -0.029135 │ 0.22743   │ 0.064112   │ 0.053913   │, Any[])"
      ]
     },
     "execution_count": 241,
     "metadata": {},
     "output_type": "execute_result"
    }
   ],
   "source": [
    "emb , missing = construct_embedding(doc) #not needed :( we only load word_index"
   ]
  },
  {
   "cell_type": "code",
   "execution_count": 272,
   "metadata": {},
   "outputs": [
    {
     "data": {
      "text/plain": [
       "get_embd_index (generic function with 1 method)"
      ]
     },
     "execution_count": 272,
     "metadata": {},
     "output_type": "execute_result"
    }
   ],
   "source": [
    "function get_embd_index(X)\n",
    "    arr = zeros(100,1) # number of max words in each example\n",
    "    embd = DataFrame(zeros(100,size(X)[1]))\n",
    "    println(size(X)[1])\n",
    "    for i in 1:10 # number of training sets\n",
    "        doc = nlp(X[:Text][i])\n",
    "        j = 0\n",
    "        for token in doc\n",
    "            j = j + 1\n",
    "            if j < 100\n",
    "                try\n",
    "                arr[j] = get_word_index[token.text]\n",
    "                catch y\n",
    "                    \n",
    "                end\n",
    "            end\n",
    "        end\n",
    "        embd[i] = arr[:]\n",
    "    end\n",
    "   return embd     \n",
    "    \n",
    "end"
   ]
  },
  {
   "cell_type": "code",
   "execution_count": 288,
   "metadata": {},
   "outputs": [
    {
     "name": "stdout",
     "output_type": "stream",
     "text": [
      "10\n"
     ]
    },
    {
     "data": {
      "text/html": [
       "<table class=\"data-frame\"><thead><tr><th></th><th>x1</th><th>x2</th><th>x3</th><th>x4</th><th>x5</th><th>x6</th><th>x7</th><th>x8</th><th>x9</th><th>x10</th></tr><tr><th></th><th>Float64</th><th>Float64</th><th>Float64</th><th>Float64</th><th>Float64</th><th>Float64</th><th>Float64</th><th>Float64</th><th>Float64</th><th>Float64</th></tr></thead><tbody><p>100 rows × 10 columns</p><tr><th>1</th><td>20529.0</td><td>19.0</td><td>19.0</td><td>1.0</td><td>72.0</td><td>10106.0</td><td>65258.0</td><td>28906.0</td><td>72.0</td><td>51043.0</td></tr><tr><th>2</th><td>38869.0</td><td>1741.0</td><td>41.0</td><td>534.0</td><td>2670.0</td><td>5101.0</td><td>37979.0</td><td>1231.0</td><td>630.0</td><td>10.0</td></tr><tr><th>3</th><td>66.0</td><td>61.0</td><td>52.0</td><td>236.0</td><td>10709.0</td><td>15.0</td><td>40929.0</td><td>10.0</td><td>16.0</td><td>2047.0</td></tr><tr><th>4</th><td>335.0</td><td>7.0</td><td>19284.0</td><td>4.0</td><td>2833.0</td><td>30.0</td><td>10.0</td><td>20283.0</td><td>30.0</td><td>2191.0</td></tr><tr><th>5</th><td>1.0</td><td>38022.0</td><td>5.0</td><td>1341.0</td><td>1605.0</td><td>141.0</td><td>703.0</td><td>126234.0</td><td>17162.0</td><td>7.0</td></tr><tr><th>6</th><td>143.0</td><td>2.0</td><td>602.0</td><td>34.0</td><td>7.0</td><td>7621.0</td><td>15.0</td><td>4173.0</td><td>29.0</td><td>1.0</td></tr><tr><th>7</th><td>942.0</td><td>2885.0</td><td>2.0</td><td>53.0</td><td>710.0</td><td>3.0</td><td>1.0</td><td>1.0</td><td>4.0</td><td>619.0</td></tr><tr><th>8</th><td>6316.0</td><td>1.0</td><td>35.0</td><td>1790.0</td><td>16.0</td><td>68.0</td><td>2004.0</td><td>598.0</td><td>4060.0</td><td>4.0</td></tr><tr><th>9</th><td>4.0</td><td>127.0</td><td>3141.0</td><td>7.0</td><td>20.0</td><td>406.0</td><td>4.0</td><td>20.0</td><td>6.0</td><td>1.0</td></tr><tr><th>10</th><td>3371.0</td><td>3449.0</td><td>7.0</td><td>615.0</td><td>59805.0</td><td>72.0</td><td>7006.0</td><td>44005.0</td><td>1296.0</td><td>282.0</td></tr><tr><th>11</th><td>2.0</td><td>4.0</td><td>1456.0</td><td>1519.0</td><td>7.0</td><td>466.0</td><td>133605.0</td><td>6.0</td><td>28.0</td><td>2.0</td></tr><tr><th>12</th><td>15008.0</td><td>175.0</td><td>5.0</td><td>125.0</td><td>1.0</td><td>14.0</td><td>14.0</td><td>29.0</td><td>6.0</td><td>298.0</td></tr><tr><th>13</th><td>3.0</td><td>272.0</td><td>1864.0</td><td>1.0</td><td>4573.0</td><td>1.0</td><td>2.0</td><td>73303.0</td><td>72.0</td><td>8123.0</td></tr><tr><th>14</th><td>8706.0</td><td>145.0</td><td>8.0</td><td>776.0</td><td>2493.0</td><td>260.0</td><td>20.0</td><td>2.0</td><td>809.0</td><td>95000.0</td></tr><tr><th>15</th><td>22.0</td><td>27.0</td><td>659.0</td><td>312.0</td><td>4.0</td><td>955.0</td><td>15.0</td><td>457.0</td><td>16.0</td><td>6.0</td></tr><tr><th>16</th><td>3371.0</td><td>1956.0</td><td>20.0</td><td>58.0</td><td>106048.0</td><td>4.0</td><td>1.0</td><td>65440.0</td><td>8.0</td><td>1.0</td></tr><tr><th>17</th><td>7.0</td><td>2.0</td><td>1809.0</td><td>58.0</td><td>10.0</td><td>1.0</td><td>703.0</td><td>57.0</td><td>416.0</td><td>147.0</td></tr><tr><th>18</th><td>1.0</td><td>4681.0</td><td>5.0</td><td>3514.0</td><td>309889.0</td><td>13422.0</td><td>4.0</td><td>4.0</td><td>788.0</td><td>11677.0</td></tr><tr><th>19</th><td>295.0</td><td>6.0</td><td>1343.0</td><td>3985.0</td><td>3.0</td><td>3.0</td><td>7006.0</td><td>1.0</td><td>4.0</td><td>13108.0</td></tr><tr><th>20</th><td>1943.0</td><td>3303.0</td><td>3.0</td><td>29.0</td><td>68.0</td><td>7.0</td><td>166828.0</td><td>216.0</td><td>2488.0</td><td>4245.0</td></tr><tr><th>21</th><td>4.0</td><td>6.0</td><td>343.0</td><td>3.0</td><td>5752.0</td><td>3609.0</td><td>119313.0</td><td>26.0</td><td>2.0</td><td>702.0</td></tr><tr><th>22</th><td>282.0</td><td>4732.0</td><td>1048.0</td><td>1135.0</td><td>14.0</td><td>2.0</td><td>110836.0</td><td>30.0</td><td>980.0</td><td>2046.0</td></tr><tr><th>23</th><td>177.0</td><td>2.0</td><td>100764.0</td><td>32.0</td><td>1.0</td><td>2204.0</td><td>2.0</td><td>2132.0</td><td>20.0</td><td>2.0</td></tr><tr><th>24</th><td>2.0</td><td>27269.0</td><td>379.0</td><td>736.0</td><td>3822.0</td><td>6.0</td><td>434.0</td><td>39.0</td><td>898.0</td><td>36.0</td></tr><tr><th>25</th><td>50.0</td><td>24.0</td><td>1422.0</td><td>56.0</td><td>5399.0</td><td>76.0</td><td>1.0</td><td>150.0</td><td>12.0</td><td>151.0</td></tr><tr><th>26</th><td>19.0</td><td>62806.0</td><td>11.0</td><td>851.0</td><td>71553.0</td><td>55567.0</td><td>56.0</td><td>1349.0</td><td>22908.0</td><td>2543.0</td></tr><tr><th>27</th><td>12275.0</td><td>25.0</td><td>1005.0</td><td>4.0</td><td>2684.0</td><td>7.0</td><td>16908.0</td><td>3429.0</td><td>3.0</td><td>7.0</td></tr><tr><th>28</th><td>18.0</td><td>6.0</td><td>4.0</td><td>3955.0</td><td>4.0</td><td>797.0</td><td>27.0</td><td>4.0</td><td>62.0</td><td>1406.0</td></tr><tr><th>29</th><td>12271.0</td><td>11957.0</td><td>11957.0</td><td>7.0</td><td>1.0</td><td>931.0</td><td>26516.0</td><td>182.0</td><td>1963.0</td><td>2119.0</td></tr><tr><th>30</th><td>2.0</td><td>3.0</td><td>7.0</td><td>398.0</td><td>2833.0</td><td>2.0</td><td>3.0</td><td>57.0</td><td>16.0</td><td>3.0</td></tr><tr><th>&vellip;</th><td>&vellip;</td><td>&vellip;</td><td>&vellip;</td><td>&vellip;</td><td>&vellip;</td><td>&vellip;</td><td>&vellip;</td><td>&vellip;</td><td>&vellip;</td><td>&vellip;</td></tr></tbody></table>"
      ],
      "text/latex": [
       "\\begin{tabular}{r|cccccccccc}\n",
       "\t& x1 & x2 & x3 & x4 & x5 & x6 & x7 & x8 & x9 & x10\\\\\n",
       "\t\\hline\n",
       "\t& Float64 & Float64 & Float64 & Float64 & Float64 & Float64 & Float64 & Float64 & Float64 & Float64\\\\\n",
       "\t\\hline\n",
       "\t1 & 20529.0 & 19.0 & 19.0 & 1.0 & 72.0 & 10106.0 & 65258.0 & 28906.0 & 72.0 & 51043.0 \\\\\n",
       "\t2 & 38869.0 & 1741.0 & 41.0 & 534.0 & 2670.0 & 5101.0 & 37979.0 & 1231.0 & 630.0 & 10.0 \\\\\n",
       "\t3 & 66.0 & 61.0 & 52.0 & 236.0 & 10709.0 & 15.0 & 40929.0 & 10.0 & 16.0 & 2047.0 \\\\\n",
       "\t4 & 335.0 & 7.0 & 19284.0 & 4.0 & 2833.0 & 30.0 & 10.0 & 20283.0 & 30.0 & 2191.0 \\\\\n",
       "\t5 & 1.0 & 38022.0 & 5.0 & 1341.0 & 1605.0 & 141.0 & 703.0 & 126234.0 & 17162.0 & 7.0 \\\\\n",
       "\t6 & 143.0 & 2.0 & 602.0 & 34.0 & 7.0 & 7621.0 & 15.0 & 4173.0 & 29.0 & 1.0 \\\\\n",
       "\t7 & 942.0 & 2885.0 & 2.0 & 53.0 & 710.0 & 3.0 & 1.0 & 1.0 & 4.0 & 619.0 \\\\\n",
       "\t8 & 6316.0 & 1.0 & 35.0 & 1790.0 & 16.0 & 68.0 & 2004.0 & 598.0 & 4060.0 & 4.0 \\\\\n",
       "\t9 & 4.0 & 127.0 & 3141.0 & 7.0 & 20.0 & 406.0 & 4.0 & 20.0 & 6.0 & 1.0 \\\\\n",
       "\t10 & 3371.0 & 3449.0 & 7.0 & 615.0 & 59805.0 & 72.0 & 7006.0 & 44005.0 & 1296.0 & 282.0 \\\\\n",
       "\t11 & 2.0 & 4.0 & 1456.0 & 1519.0 & 7.0 & 466.0 & 133605.0 & 6.0 & 28.0 & 2.0 \\\\\n",
       "\t12 & 15008.0 & 175.0 & 5.0 & 125.0 & 1.0 & 14.0 & 14.0 & 29.0 & 6.0 & 298.0 \\\\\n",
       "\t13 & 3.0 & 272.0 & 1864.0 & 1.0 & 4573.0 & 1.0 & 2.0 & 73303.0 & 72.0 & 8123.0 \\\\\n",
       "\t14 & 8706.0 & 145.0 & 8.0 & 776.0 & 2493.0 & 260.0 & 20.0 & 2.0 & 809.0 & 95000.0 \\\\\n",
       "\t15 & 22.0 & 27.0 & 659.0 & 312.0 & 4.0 & 955.0 & 15.0 & 457.0 & 16.0 & 6.0 \\\\\n",
       "\t16 & 3371.0 & 1956.0 & 20.0 & 58.0 & 106048.0 & 4.0 & 1.0 & 65440.0 & 8.0 & 1.0 \\\\\n",
       "\t17 & 7.0 & 2.0 & 1809.0 & 58.0 & 10.0 & 1.0 & 703.0 & 57.0 & 416.0 & 147.0 \\\\\n",
       "\t18 & 1.0 & 4681.0 & 5.0 & 3514.0 & 309889.0 & 13422.0 & 4.0 & 4.0 & 788.0 & 11677.0 \\\\\n",
       "\t19 & 295.0 & 6.0 & 1343.0 & 3985.0 & 3.0 & 3.0 & 7006.0 & 1.0 & 4.0 & 13108.0 \\\\\n",
       "\t20 & 1943.0 & 3303.0 & 3.0 & 29.0 & 68.0 & 7.0 & 166828.0 & 216.0 & 2488.0 & 4245.0 \\\\\n",
       "\t21 & 4.0 & 6.0 & 343.0 & 3.0 & 5752.0 & 3609.0 & 119313.0 & 26.0 & 2.0 & 702.0 \\\\\n",
       "\t22 & 282.0 & 4732.0 & 1048.0 & 1135.0 & 14.0 & 2.0 & 110836.0 & 30.0 & 980.0 & 2046.0 \\\\\n",
       "\t23 & 177.0 & 2.0 & 100764.0 & 32.0 & 1.0 & 2204.0 & 2.0 & 2132.0 & 20.0 & 2.0 \\\\\n",
       "\t24 & 2.0 & 27269.0 & 379.0 & 736.0 & 3822.0 & 6.0 & 434.0 & 39.0 & 898.0 & 36.0 \\\\\n",
       "\t25 & 50.0 & 24.0 & 1422.0 & 56.0 & 5399.0 & 76.0 & 1.0 & 150.0 & 12.0 & 151.0 \\\\\n",
       "\t26 & 19.0 & 62806.0 & 11.0 & 851.0 & 71553.0 & 55567.0 & 56.0 & 1349.0 & 22908.0 & 2543.0 \\\\\n",
       "\t27 & 12275.0 & 25.0 & 1005.0 & 4.0 & 2684.0 & 7.0 & 16908.0 & 3429.0 & 3.0 & 7.0 \\\\\n",
       "\t28 & 18.0 & 6.0 & 4.0 & 3955.0 & 4.0 & 797.0 & 27.0 & 4.0 & 62.0 & 1406.0 \\\\\n",
       "\t29 & 12271.0 & 11957.0 & 11957.0 & 7.0 & 1.0 & 931.0 & 26516.0 & 182.0 & 1963.0 & 2119.0 \\\\\n",
       "\t30 & 2.0 & 3.0 & 7.0 & 398.0 & 2833.0 & 2.0 & 3.0 & 57.0 & 16.0 & 3.0 \\\\\n",
       "\t$\\dots$ & $\\dots$ & $\\dots$ & $\\dots$ & $\\dots$ & $\\dots$ & $\\dots$ & $\\dots$ & $\\dots$ & $\\dots$ & $\\dots$ \\\\\n",
       "\\end{tabular}\n"
      ],
      "text/plain": [
       "100×10 DataFrame. Omitted printing of 3 columns\n",
       "│ Row │ x1      │ x2      │ x3      │ x4      │ x5      │ x6      │ x7      │\n",
       "│     │ \u001b[90mFloat64\u001b[39m │ \u001b[90mFloat64\u001b[39m │ \u001b[90mFloat64\u001b[39m │ \u001b[90mFloat64\u001b[39m │ \u001b[90mFloat64\u001b[39m │ \u001b[90mFloat64\u001b[39m │ \u001b[90mFloat64\u001b[39m │\n",
       "├─────┼─────────┼─────────┼─────────┼─────────┼─────────┼─────────┼─────────┤\n",
       "│ 1   │ 20529.0 │ 19.0    │ 19.0    │ 1.0     │ 72.0    │ 10106.0 │ 65258.0 │\n",
       "│ 2   │ 38869.0 │ 1741.0  │ 41.0    │ 534.0   │ 2670.0  │ 5101.0  │ 37979.0 │\n",
       "│ 3   │ 66.0    │ 61.0    │ 52.0    │ 236.0   │ 10709.0 │ 15.0    │ 40929.0 │\n",
       "│ 4   │ 335.0   │ 7.0     │ 19284.0 │ 4.0     │ 2833.0  │ 30.0    │ 10.0    │\n",
       "│ 5   │ 1.0     │ 38022.0 │ 5.0     │ 1341.0  │ 1605.0  │ 141.0   │ 703.0   │\n",
       "│ 6   │ 143.0   │ 2.0     │ 602.0   │ 34.0    │ 7.0     │ 7621.0  │ 15.0    │\n",
       "│ 7   │ 942.0   │ 2885.0  │ 2.0     │ 53.0    │ 710.0   │ 3.0     │ 1.0     │\n",
       "│ 8   │ 6316.0  │ 1.0     │ 35.0    │ 1790.0  │ 16.0    │ 68.0    │ 2004.0  │\n",
       "│ 9   │ 4.0     │ 127.0   │ 3141.0  │ 7.0     │ 20.0    │ 406.0   │ 4.0     │\n",
       "│ 10  │ 3371.0  │ 3449.0  │ 7.0     │ 615.0   │ 59805.0 │ 72.0    │ 7006.0  │\n",
       "⋮\n",
       "│ 90  │ 0.0     │ 0.0     │ 1.0     │ 1.0     │ 202.0   │ 89859.0 │ 89859.0 │\n",
       "│ 91  │ 0.0     │ 0.0     │ 1252.0  │ 1252.0  │ 1045.0  │ 3008.0  │ 3008.0  │\n",
       "│ 92  │ 0.0     │ 0.0     │ 2226.0  │ 2226.0  │ 6.0     │ 3.0     │ 3.0     │\n",
       "│ 93  │ 0.0     │ 0.0     │ 12.0    │ 12.0    │ 3355.0  │ 3355.0  │ 3355.0  │\n",
       "│ 94  │ 0.0     │ 0.0     │ 571.0   │ 571.0   │ 7.0     │ 7.0     │ 7.0     │\n",
       "│ 95  │ 0.0     │ 0.0     │ 614.0   │ 614.0   │ 280.0   │ 280.0   │ 280.0   │\n",
       "│ 96  │ 0.0     │ 0.0     │ 2.0     │ 2.0     │ 4127.0  │ 4127.0  │ 4127.0  │\n",
       "│ 97  │ 0.0     │ 0.0     │ 6.0     │ 6.0     │ 58.0    │ 58.0    │ 58.0    │\n",
       "│ 98  │ 0.0     │ 0.0     │ 5.0     │ 5.0     │ 851.0   │ 851.0   │ 851.0   │\n",
       "│ 99  │ 0.0     │ 0.0     │ 343.0   │ 343.0   │ 2.0     │ 2.0     │ 2.0     │\n",
       "│ 100 │ 0.0     │ 0.0     │ 0.0     │ 0.0     │ 0.0     │ 0.0     │ 0.0     │"
      ]
     },
     "execution_count": 288,
     "metadata": {},
     "output_type": "execute_result"
    }
   ],
   "source": [
    "embd = get_embd_index(data[1:10,:])"
   ]
  },
  {
   "cell_type": "code",
   "execution_count": 21,
   "metadata": {},
   "outputs": [
    {
     "ename": "UndefVarError",
     "evalue": "UndefVarError: embtable not defined",
     "output_type": "error",
     "traceback": [
      "UndefVarError: embtable not defined",
      "",
      "Stacktrace:",
      " [1] top-level scope at In[21]:1"
     ]
    }
   ],
   "source": [
    "embtable.embeddings[:,embd]"
   ]
  }
 ],
 "metadata": {
  "@webio": {
   "lastCommId": null,
   "lastKernelId": null
  },
  "kernelspec": {
   "display_name": "Julia 1.0.3",
   "language": "julia",
   "name": "julia-1.0"
  },
  "language_info": {
   "file_extension": ".jl",
   "mimetype": "application/julia",
   "name": "julia",
   "version": "1.0.3"
  }
 },
 "nbformat": 4,
 "nbformat_minor": 2
}
