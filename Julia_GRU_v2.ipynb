{
 "cells": [
  {
   "cell_type": "code",
   "execution_count": 2,
   "metadata": {},
   "outputs": [
    {
     "data": {
      "text/html": [
       "<table class=\"data-frame\"><thead><tr><th></th><th>ID</th><th>Text</th><th>Pronoun</th><th>Pronoun_offset</th><th>A</th><th>A_offset</th><th>A_coref</th><th>B</th><th>B_offset</th><th>B_coref</th><th>URL</th></tr><tr><th></th><th>String</th><th>String</th><th>String</th><th>Int64</th><th>String</th><th>Int64</th><th>String</th><th>String</th><th>Int64</th><th>String</th><th>String</th></tr></thead><tbody><p>6 rows × 11 columns</p><tr><th>1</th><td>development-1</td><td>Zoe Telford -- played the police officer girlfriend of Simon, Maggie. Dumped by Simon in the final episode of series 1, after he slept with Jenny, and is not seen again. Phoebe Thomas played Cheryl Cassidy, Pauline's friend and also a year 11 pupil in Simon's class. Dumped her boyfriend following Simon's advice after he wouldn't have sex with her but later realised this was due to him catching crabs off her friend Pauline.</td><td>her</td><td>274</td><td>Cheryl Cassidy</td><td>191</td><td>TRUE</td><td>Pauline</td><td>207</td><td>FALSE</td><td>http://en.wikipedia.org/wiki/List_of_Teachers_(UK_TV_series)_characters</td></tr><tr><th>2</th><td>development-2</td><td>He grew up in Evanston, Illinois the second oldest of five children including his brothers, Fred and Gordon and sisters, Marge (Peppy) and Marilyn. His high school days were spent at New Trier High School in Winnetka, Illinois. MacKenzie studied with Bernard Leach from 1949 to 1952. His simple, wheel-thrown functional pottery is heavily influenced by the oriental aesthetic of Shoji Hamada and Kanjiro Kawai.</td><td>His</td><td>284</td><td>MacKenzie</td><td>228</td><td>TRUE</td><td>Bernard Leach</td><td>251</td><td>FALSE</td><td>http://en.wikipedia.org/wiki/Warren_MacKenzie</td></tr><tr><th>3</th><td>development-3</td><td>He had been reelected to Congress, but resigned in 1990 to accept a post as Ambassador to Brazil. De la Sota again ran for governor of C*rdoba in 1991. Defeated by Governor Angeloz by over 15%, this latter setback was significant because it cost De la Sota much of his support within the Justicialist Party (which was flush with victory in the 1991 mid-terms), leading to President Carlos Menem 's endorsement of a separate party list in C*rdoba for the 1993 mid-term elections, and to De la Sota's failure to regain a seat in Congress.</td><td>his</td><td>265</td><td>Angeloz</td><td>173</td><td>FALSE</td><td>De la Sota</td><td>246</td><td>TRUE</td><td>http://en.wikipedia.org/wiki/Jos%C3%A9_Manuel_de_la_Sota</td></tr><tr><th>4</th><td>development-4</td><td>The current members of Crime have also performed in San Francisco under the band name ''Remote Viewers``. Strike has published two works of fiction in recent years: Ports of Hell, which is listed in the Rock and Roll Hall of Fame Library, and A Loud Humming Sound Came from Above. Rank has produced numerous films (under his real name, Henry Rosenthal) including the hit The Devil and Daniel Johnston.</td><td>his</td><td>321</td><td>Hell</td><td>174</td><td>FALSE</td><td>Henry Rosenthal</td><td>336</td><td>TRUE</td><td>http://en.wikipedia.org/wiki/Crime_(band)</td></tr><tr><th>5</th><td>development-5</td><td>Her Santa Fe Opera debut in 2005 was as Nuria in the revised edition of Golijov's Ainadamar. She sang on the subsequent Deutsche Grammophon recording of the opera. For his opera Doctor Atomic, Adams rewrote the role of Kitty Oppenheimer, originally a mezzo-soprano role, for soprano voice, and Rivera sang the rewritten part of Kitty Oppenheimer at Lyric Opera of Chicago, De Nederlandse Opera, and the Metropolitan Opera., all in 2007. She has since sung several parts and roles in John Adams' works, including the soprano part in El Ni*o, and the role of Kumudha in A Flowering Tree in the Peter Sellars production at the New Crowned Hope Festival in Vienna.</td><td>She</td><td>437</td><td>Kitty Oppenheimer</td><td>219</td><td>FALSE</td><td>Rivera</td><td>294</td><td>TRUE</td><td>http://en.wikipedia.org/wiki/Jessica_Rivera</td></tr><tr><th>6</th><td>development-6</td><td>Sandra Collins is an American DJ. She got her start on the West Coast of the U.S. in Phoenix, Arizona and into residencies in Los Angeles, and eventually moved towards trance. She used American producers to give herself a unique sound. Collins performed for an estimated 80,000 people on the first night of Woodstock '99, and was the first female DJ featured in the Tranceport series of influential recordings. She recently has released two CD mixes under Paul Oakenfold's Perfecto label.</td><td>She</td><td>411</td><td>Collins</td><td>236</td><td>TRUE</td><td>DJ</td><td>347</td><td>FALSE</td><td>http://en.wikipedia.org/wiki/Sandra_Collins</td></tr></tbody></table>"
      ],
      "text/latex": [
       "\\begin{tabular}{r|ccccccccccc}\n",
       "\t& ID & Text & Pronoun & Pronoun\\_offset & A & A\\_offset & A\\_coref & B & B\\_offset & B\\_coref & URL\\\\\n",
       "\t\\hline\n",
       "\t& String & String & String & Int64 & String & Int64 & String & String & Int64 & String & String\\\\\n",
       "\t\\hline\n",
       "\t1 & development-1 & Zoe Telford -- played the police officer girlfriend of Simon, Maggie. Dumped by Simon in the final episode of series 1, after he slept with Jenny, and is not seen again. Phoebe Thomas played Cheryl Cassidy, Pauline's friend and also a year 11 pupil in Simon's class. Dumped her boyfriend following Simon's advice after he wouldn't have sex with her but later realised this was due to him catching crabs off her friend Pauline. & her & 274 & Cheryl Cassidy & 191 & TRUE & Pauline & 207 & FALSE & http://en.wikipedia.org/wiki/List\\_of\\_Teachers\\_(UK\\_TV\\_series)\\_characters \\\\\n",
       "\t2 & development-2 & He grew up in Evanston, Illinois the second oldest of five children including his brothers, Fred and Gordon and sisters, Marge (Peppy) and Marilyn. His high school days were spent at New Trier High School in Winnetka, Illinois. MacKenzie studied with Bernard Leach from 1949 to 1952. His simple, wheel-thrown functional pottery is heavily influenced by the oriental aesthetic of Shoji Hamada and Kanjiro Kawai. & His & 284 & MacKenzie & 228 & TRUE & Bernard Leach & 251 & FALSE & http://en.wikipedia.org/wiki/Warren\\_MacKenzie \\\\\n",
       "\t3 & development-3 & He had been reelected to Congress, but resigned in 1990 to accept a post as Ambassador to Brazil. De la Sota again ran for governor of C*rdoba in 1991. Defeated by Governor Angeloz by over 15\\%, this latter setback was significant because it cost De la Sota much of his support within the Justicialist Party (which was flush with victory in the 1991 mid-terms), leading to President Carlos Menem 's endorsement of a separate party list in C*rdoba for the 1993 mid-term elections, and to De la Sota's failure to regain a seat in Congress. & his & 265 & Angeloz & 173 & FALSE & De la Sota & 246 & TRUE & http://en.wikipedia.org/wiki/Jos\\%C3\\%A9\\_Manuel\\_de\\_la\\_Sota \\\\\n",
       "\t4 & development-4 & The current members of Crime have also performed in San Francisco under the band name ''Remote Viewers``. Strike has published two works of fiction in recent years: Ports of Hell, which is listed in the Rock and Roll Hall of Fame Library, and A Loud Humming Sound Came from Above. Rank has produced numerous films (under his real name, Henry Rosenthal) including the hit The Devil and Daniel Johnston. & his & 321 & Hell & 174 & FALSE & Henry Rosenthal & 336 & TRUE & http://en.wikipedia.org/wiki/Crime\\_(band) \\\\\n",
       "\t5 & development-5 & Her Santa Fe Opera debut in 2005 was as Nuria in the revised edition of Golijov's Ainadamar. She sang on the subsequent Deutsche Grammophon recording of the opera. For his opera Doctor Atomic, Adams rewrote the role of Kitty Oppenheimer, originally a mezzo-soprano role, for soprano voice, and Rivera sang the rewritten part of Kitty Oppenheimer at Lyric Opera of Chicago, De Nederlandse Opera, and the Metropolitan Opera., all in 2007. She has since sung several parts and roles in John Adams' works, including the soprano part in El Ni*o, and the role of Kumudha in A Flowering Tree in the Peter Sellars production at the New Crowned Hope Festival in Vienna. & She & 437 & Kitty Oppenheimer & 219 & FALSE & Rivera & 294 & TRUE & http://en.wikipedia.org/wiki/Jessica\\_Rivera \\\\\n",
       "\t6 & development-6 & Sandra Collins is an American DJ. She got her start on the West Coast of the U.S. in Phoenix, Arizona and into residencies in Los Angeles, and eventually moved towards trance. She used American producers to give herself a unique sound. Collins performed for an estimated 80,000 people on the first night of Woodstock '99, and was the first female DJ featured in the Tranceport series of influential recordings. She recently has released two CD mixes under Paul Oakenfold's Perfecto label. & She & 411 & Collins & 236 & TRUE & DJ & 347 & FALSE & http://en.wikipedia.org/wiki/Sandra\\_Collins \\\\\n",
       "\\end{tabular}\n"
      ],
      "text/plain": [
       "6×11 DataFrame. Omitted printing of 10 columns\n",
       "│ Row │ ID            │\n",
       "│     │ \u001b[90mString\u001b[39m        │\n",
       "├─────┼───────────────┤\n",
       "│ 1   │ development-1 │\n",
       "│ 2   │ development-2 │\n",
       "│ 3   │ development-3 │\n",
       "│ 4   │ development-4 │\n",
       "│ 5   │ development-5 │\n",
       "│ 6   │ development-6 │"
      ]
     },
     "execution_count": 2,
     "metadata": {},
     "output_type": "execute_result"
    }
   ],
   "source": [
    "using CSV,DataFrames\n",
    "data = DataFrame(CSV.read(\"data/gap-development.tsv\",delim='\\t', allowmissing=:none, normalizenames=true));\n",
    "first(data,6)"
   ]
  },
  {
   "cell_type": "code",
   "execution_count": 2,
   "metadata": {},
   "outputs": [],
   "source": [
    "data[:Text]= map(lowercase, data[:Text]);"
   ]
  },
  {
   "cell_type": "code",
   "execution_count": 7,
   "metadata": {},
   "outputs": [
    {
     "data": {
      "text/plain": [
       "Embeddings.EmbeddingTable{Array{Float32,2},Array{String,1}}(Float32[0.04656 -0.25539 … 0.81451 0.429191; 0.21318 -0.25723 … -0.36221 -0.296897; … ; -0.20989 -0.12226 … 0.28408 0.32618; 0.053913 0.35499 … -0.17559 -0.0590532], [\"the\", \",\", \".\", \"of\", \"to\", \"and\", \"in\", \"a\", \"\\\"\", \"'s\"  …  \"sigarms\", \"katuna\", \"aqm\", \"1.3775\", \"corythosaurus\", \"chanty\", \"kronik\", \"rolonda\", \"zsombor\", \"sandberger\"])"
      ]
     },
     "execution_count": 7,
     "metadata": {},
     "output_type": "execute_result"
    }
   ],
   "source": [
    "#using Pkg\n",
    "#Pkg.add(\"Embeddings\")\n",
    "using Embeddings\n",
    "const embtable = load_embeddings(GloVe,4) # or load_embeddings(FastText_Text) or ...\n"
   ]
  },
  {
   "cell_type": "code",
   "execution_count": 6,
   "metadata": {},
   "outputs": [
    {
     "data": {
      "text/plain": [
       "get_embedding (generic function with 1 method)"
      ]
     },
     "execution_count": 6,
     "metadata": {},
     "output_type": "execute_result"
    }
   ],
   "source": [
    "const get_word_index = Dict(word=>ii for (ii,word) in enumerate(embtable.vocab))\n",
    "\n",
    "function get_embedding(word)\n",
    "    ind = get_word_index[word]\n",
    "    emb = embtable.embeddings[:,ind]\n",
    "    return emb\n",
    "end"
   ]
  },
  {
   "cell_type": "code",
   "execution_count": 7,
   "metadata": {},
   "outputs": [
    {
     "data": {
      "text/plain": [
       "201535"
      ]
     },
     "execution_count": 7,
     "metadata": {},
     "output_type": "execute_result"
    }
   ],
   "source": [
    "get_word_index[\"unk\"]"
   ]
  },
  {
   "cell_type": "code",
   "execution_count": 8,
   "metadata": {},
   "outputs": [],
   "source": [
    "#using Pkg\n",
    "#Pkg.add(\"WordTokenizers\")\n",
    "using WordTokenizers\n"
   ]
  },
  {
   "cell_type": "code",
   "execution_count": 9,
   "metadata": {},
   "outputs": [
    {
     "data": {
      "text/plain": [
       "construct_embeddings (generic function with 1 method)"
      ]
     },
     "execution_count": 9,
     "metadata": {},
     "output_type": "execute_result"
    }
   ],
   "source": [
    "function construct_embeddings(tokens)  \n",
    "   miss = [] \n",
    "    i = 0\n",
    "    embd = DataFrame(zeros(300,1)) \n",
    "    for token in tokens\n",
    "        try\n",
    "            em = get_embedding(token)\n",
    "            if(size(em)[1] == 300)\n",
    "                #println(token)\n",
    "                i = i +1\n",
    "                embd[i] = em[:]  \n",
    "            else\n",
    "                push!(miss,token)\n",
    "                #println(token)\n",
    "            end\n",
    "            \n",
    "        catch y\n",
    "             #println(token)\n",
    "             push!(miss,token)\n",
    "              \n",
    "        end\n",
    "        \n",
    "        \n",
    "    end\n",
    "    return embd,miss\n",
    "end"
   ]
  },
  {
   "cell_type": "code",
   "execution_count": 10,
   "metadata": {},
   "outputs": [
    {
     "data": {
      "text/plain": [
       "get_embd_index (generic function with 1 method)"
      ]
     },
     "execution_count": 10,
     "metadata": {},
     "output_type": "execute_result"
    }
   ],
   "source": [
    "function get_embd_index(X)\n",
    "    arr = zeros(150,1) # number of max words in each example\n",
    "    embd = DataFrame(zeros(150,size(X)[1]))\n",
    "    for i in 1:10 # number of training sets\n",
    "        split_text = tokenize.(split_sentences(X[:Text][i]))\n",
    "        doc = vcat(split_text...)\n",
    "        #println(length(doc))\n",
    "        j = 0\n",
    "        for token in doc\n",
    "            j = j + 1\n",
    "            if j < 150\n",
    "                try\n",
    "                arr[j] = get_word_index[token]\n",
    "                catch y\n",
    "                    \n",
    "                end\n",
    "            end\n",
    "        end\n",
    "        embd[i] = arr[:]\n",
    "    end\n",
    "   return embd     \n",
    "    \n",
    "end"
   ]
  },
  {
   "cell_type": "code",
   "execution_count": 6,
   "metadata": {},
   "outputs": [
    {
     "data": {
      "text/plain": [
       "construct_training_data (generic function with 1 method)"
      ]
     },
     "execution_count": 6,
     "metadata": {},
     "output_type": "execute_result"
    }
   ],
   "source": [
    "#using Pkg\n",
    "#Pkg.add(\"PaddedViews\")\n",
    "using PaddedViews\n",
    "using Flux:onehot\n",
    "function construct_training_data(X,n)\n",
    "    Train_X = Array{Float64}(undef, 300,150,n)\n",
    "    Train_Y = Array{Float64}(undef,2,3)\n",
    "    for i in 1:n\n",
    "        split_text = tokenize.(split_sentences(X[:Text][i]))\n",
    "        doc = vcat(split_text...)\n",
    "        train_x,miss = construct_embeddings(doc)\n",
    "        z = PaddedView(0.0, convert(Array,train_x), (300, 150))\n",
    "        Train_X[:,:,i] = z\n",
    "        #Train_Y[:,i] = onehot(X[:A_coref][i],[\"TRUE\",\"FALSE\"])\n",
    "        \n",
    "    end\n",
    "    Train_Y = onehotbatch(data[:A_coref][1:3], [\"TRUE\",\"FALSE\"])\n",
    "    return Train_X,Train_Y\n",
    "end"
   ]
  },
  {
   "cell_type": "code",
   "execution_count": 98,
   "metadata": {},
   "outputs": [
    {
     "name": "stderr",
     "output_type": "stream",
     "text": [
      "┌ Warning: `convert(::Type{Array}, df::AbstractDataFrame)` is deprecated, use `convert(Matrix, df)` instead.\n",
      "│   caller = construct_training_data(::DataFrame, ::Int64) at In[97]:12\n",
      "└ @ Main .\\In[97]:12\n"
     ]
    },
    {
     "data": {
      "text/plain": [
       "Base.Iterators.Zip2{Array{Float64,3},Array{Float64,2}}([0.35212 -0.27052 … 0.0 0.0; -0.18099 -0.19328 … 0.0 0.0; … ; -0.30465 0.2016 … 0.0 0.0; 0.35556 -0.029135 … 0.0 0.0]\n",
       "\n",
       "[-0.52057 -0.7947 … 0.0 0.0; 0.49562 -0.16287 … 0.0 0.0; … ; -0.22204 -0.022498 … 0.0 0.0; 0.14277 0.016073 … 0.0 0.0]\n",
       "\n",
       "[-0.52057 -0.32601 … 0.0 0.0; 0.49562 0.25829 … 0.0 0.0; … ; -0.22204 -0.33391 … 0.0 0.0; 0.14277 -0.057473 … 0.0 0.0], [1.0 1.0 0.0; 0.0 0.0 1.0])"
      ]
     },
     "execution_count": 98,
     "metadata": {},
     "output_type": "execute_result"
    }
   ],
   "source": [
    "using Flux:onehotbatch\n",
    "train_X,train_Y = construct_training_data(data,3)\n",
    "data_XY = zip(train_X,train_Y)"
   ]
  },
  {
   "cell_type": "code",
   "execution_count": 114,
   "metadata": {},
   "outputs": [
    {
     "ename": "DimensionMismatch",
     "evalue": "DimensionMismatch(\"dimensions must match\")",
     "output_type": "error",
     "traceback": [
      "DimensionMismatch(\"dimensions must match\")",
      "",
      "Stacktrace:",
      " [1] promote_shape at .\\indices.jl:133 [inlined]",
      " [2] size(::Base.Iterators.Zip2{Array{Float64,3},Array{Float64,2}}) at .\\iterators.jl:290",
      " [3] top-level scope at In[114]:1"
     ]
    }
   ],
   "source": [
    "\n"
   ]
  },
  {
   "cell_type": "code",
   "execution_count": 109,
   "metadata": {},
   "outputs": [
    {
     "data": {
      "text/plain": [
       "loss (generic function with 1 method)"
      ]
     },
     "execution_count": 109,
     "metadata": {},
     "output_type": "execute_result"
    }
   ],
   "source": [
    "using Flux;\n",
    "using Flux:crossentropy\n",
    "model1 = Chain(   \n",
    "  LSTM(300,150),\n",
    "    Dense(150,2,σ),\n",
    "    Dense(2,1),\n",
    "    x -> σ.(x))\n",
    "  \n",
    "function loss(x,y)\n",
    "    l = Flux.mse(model1(x), y)\n",
    "    Flux.reset!(model1)\n",
    "    l\n",
    "end\n",
    "\n",
    "\n"
   ]
  },
  {
   "cell_type": "code",
   "execution_count": 70,
   "metadata": {},
   "outputs": [
    {
     "data": {
      "text/plain": [
       "\"Chain{Tuple{Flux.Recur{Flux.LSTMCell{TrackedArray{…,Array{Float32,2}},TrackedArray{…,Array{Float32,1}}}},Dense{typeof(identity),TrackedArray{…,Array{Float32,2}},TrackedArray{…,Array{Float32,1}}},Dense{typeof(identity),TrackedArray{…,Array{Float32,2}},TrackedArray{…,Array{Float32,1}}},getfield(Main, Symbol(\\\"##17#18\\\"))}}\""
      ]
     },
     "execution_count": 70,
     "metadata": {},
     "output_type": "execute_result"
    }
   ],
   "source": [
    "summary(model1)"
   ]
  },
  {
   "cell_type": "code",
   "execution_count": 40,
   "metadata": {},
   "outputs": [
    {
     "data": {
      "text/plain": [
       "\"300×150×3 Array{Float64,3}\""
      ]
     },
     "execution_count": 40,
     "metadata": {},
     "output_type": "execute_result"
    }
   ],
   "source": [
    "summary(train_X)"
   ]
  },
  {
   "cell_type": "code",
   "execution_count": 110,
   "metadata": {},
   "outputs": [],
   "source": [
    "Flux.train!(loss, params(model1),data_XY, ADAM(0.01))"
   ]
  },
  {
   "cell_type": "code",
   "execution_count": 112,
   "metadata": {},
   "outputs": [
    {
     "data": {
      "text/plain": [
       "Tracked 1×150 Array{Float32,2}:\n",
       " 0.613348  0.609959  0.558484  …  0.57889  0.57889  0.57889  0.57889"
      ]
     },
     "execution_count": 112,
     "metadata": {},
     "output_type": "execute_result"
    }
   ],
   "source": [
    "model1(train_X[:,:,1])"
   ]
  },
  {
   "cell_type": "code",
   "execution_count": 111,
   "metadata": {},
   "outputs": [
    {
     "data": {
      "text/plain": [
       "Params([Float32[0.0131531 -0.0406905 … -0.080676 -0.00139121; 0.0629764 -0.00895918 … 0.11993 -0.0468441; … ; 0.0240156 -0.0376131 … -0.0669475 -0.0587887; -0.107754 0.0265195 … -0.0503924 0.0383268] (tracked), Float32[-0.0636966 0.00390379 … 0.0394069 -0.073785; -0.0369835 0.0635294 … -0.0422509 0.0174551; … ; -0.0233187 0.0497063 … -0.0936188 -0.0577894; 0.0499861 -0.0268253 … -0.00870082 -0.0195944] (tracked), Float32[-0.0275465, -0.0929646, -0.0691896, -0.0216121, 0.0799584, -0.0741766, 0.078809, -0.0390927, 0.0590757, 0.020554  …  -0.0613883, 0.0650747, -0.0607477, -0.0989734, 0.0254741, -0.054243, -0.0678311, -0.0306431, -0.0921476, -0.114982] (tracked), Float32[-0.010331, -0.00778698, -0.00653664, 0.010686, -0.00750533, -0.00534056, -0.0101283, -0.0140193, 0.00734552, 0.0099683  …  -0.0123925, 0.0117347, 0.00684113, -0.010687, -0.00884075, 0.00843259, -0.0102125, -0.00935017, -0.0115397, 0.00859825] (tracked), Float32[-0.0222748, 7.31847e-5, -5.99506e-5, -0.00152807, 0.00557642, 0.00955227, 0.00200157, 0.00466807, -0.00325623, 0.0022655  …  0.00402263, -0.002623, 0.00292944, 0.00766624, -0.0373586, -0.00542716, -0.00445613, 0.000350683, 0.0039245, -0.0102766] (tracked), Float32[0.0519302 0.181804 … 0.116556 0.0231399; 0.143455 -0.0383325 … 0.105465 0.118331] (tracked), Float32[0.00100127, -0.00135197] (tracked), Float32[1.13655 -0.4821] (tracked), Float32[0.00104104] (tracked)])"
      ]
     },
     "execution_count": 111,
     "metadata": {},
     "output_type": "execute_result"
    }
   ],
   "source": [
    "params(model1)"
   ]
  }
 ],
 "metadata": {
  "kernelspec": {
   "display_name": "Julia 1.0.3",
   "language": "julia",
   "name": "julia-1.0"
  },
  "language_info": {
   "file_extension": ".jl",
   "mimetype": "application/julia",
   "name": "julia",
   "version": "1.0.3"
  }
 },
 "nbformat": 4,
 "nbformat_minor": 2
}
